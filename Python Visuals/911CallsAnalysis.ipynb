{
 "cells": [
  {
   "cell_type": "markdown",
   "metadata": {},
   "source": [
    "# Juptyer Notebook: 911 Calls Analysis\n",
    "\n",
    "**Inquiry:** Is there a statistical spatial correlation between the 911 call density ( from 2018-2025 ) and proximity to hospitals in Wayne county?\n",
    "\n",
    "**Null Hypothesis:** There is no statistically significant spacial correlation between hospital locations and 911 call density\n",
    "\n",
    "**Hypothesis 1:** There is a positive statistical significanct spacial correlation between 911 call density and hospital locations\n",
    "\n",
    "What this **means:** The higher the 911 call density, the more likely there is to have a hospital nearby\n",
    "\n",
    "**Disclaimer:** Healthcare locations vary based on a large set of factors such as environment, demand, population, proximity, competition, government policies, and costs as in other hospital ranking problems as stated in the article *Hospital Location Selection: A Systematic Literature Review on Methodologies and Applications*.\n",
    "\n",
    "My research aims to focus on the demand sector and blueprinting the trends and correlations of hospital locations based on 911 calls in the Wayne County, Mi area. Essentially, the data should statistically forecast areas in which hospitals would be beneficial to the public based on factors such as demand, proximity, and population."
   ]
  },
  {
   "cell_type": "code",
   "execution_count": 45,
   "metadata": {},
   "outputs": [
    {
     "name": "stdout",
     "output_type": "stream",
     "text": [
      "Essential Libraries ✅\n"
     ]
    }
   ],
   "source": [
    "# matplotlib.pylot (plt.plot) creates visuals\n",
    "import matplotlib.pyplot as plt\n",
    "# numpy allows us to find mean, median, mode, etc.\n",
    "import numpy as np\n",
    "# pandas allows us to import datasets\n",
    "import pandas as pd\n",
    "\n",
    "print(\"Essential Libraries ✅\")\n"
   ]
  },
  {
   "cell_type": "markdown",
   "metadata": {},
   "source": [
    "# Import Datasets Using Pandas\n",
    "## Import Specialized Datatables\n",
    "\n",
    "I am going to first start by using Pandas to import 3 datasets that I imported from the cleaned data from the database I created using the Detroit Open Data Portal on 911 calls from 2018-2025 in Wayne County, MI.\n",
    "\n",
    "The datasets include:\n",
    "1. 911CallLocations.csv\n",
    "    - Consists of top 50 locations ( street names / intersections ) hotspots for 911 calls \n",
    "2. mostCallTypesLocations.csv\n",
    "    - Consists of data grouped by amount of calls at certain locations ( hotspots ) and information regarding the type of call\n",
    "3. mostShootingLocations.csv\n",
    "    - Consists of top 50 locations of shooting call types and the amount of calls at those hotspots\n"
   ]
  },
  {
   "cell_type": "code",
   "execution_count": 46,
   "metadata": {},
   "outputs": [
    {
     "name": "stdout",
     "output_type": "stream",
     "text": [
      "✅ Successfully imported 911CallLocations df\n",
      "\n",
      "     W Grand Blvd & Lincoln St  4931\n",
      "0       Lesure St & W Outer Dr  4117\n",
      "1  Moross Rd & Northdeuft Blvd  3756\n",
      "2       Mack Ave & Beaubien St  3500\n",
      "3      Gratiot Ave & 8 Mile Rd  2967\n",
      "4    Van Dyke St & E 7 Mile Rd  2821\n",
      "\n",
      "Information:\n",
      "      - Column 1: Location\n",
      "      - Column 2: Count\n",
      "\n"
     ]
    }
   ],
   "source": [
    "# practice importing my data now\n",
    "file_path = \"Datasets/911CallLocations.csv\"\n",
    "df_911CallLocations = pd.read_csv(file_path)\n",
    "\n",
    "print(\"✅ Successfully imported 911CallLocations df\\n\")\n",
    "print(f\"{df_911CallLocations.head()}\\n\")\n",
    "print(\"\"\"Information:\n",
    "      - Column 1: Location\n",
    "      - Column 2: Count\\n\"\"\")\n"
   ]
  },
  {
   "cell_type": "code",
   "execution_count": 47,
   "metadata": {},
   "outputs": [
    {
     "name": "stdout",
     "output_type": "stream",
     "text": [
      "✅ Successfully imported MostCallTypesAtLocations df\n",
      "\n",
      "   General Disturbance Grand Service Drive & Linwood St  1609\n",
      "0  General Disturbance       W 7 Mile Rd & Grandview St  1601\n",
      "1  General Disturbance  N I 75 Service Drive & Mack Ave  1388\n",
      "2  General Disturbance           Hayes St & E 7 Mile Rd  1323\n",
      "3  General Disturbance        Chalmers St & E 7 Mile Rd  1182\n",
      "4  General Disturbance           Wyoming St & 8 Mile Rd  1177\n",
      "\n",
      "Information:\n",
      "      - Column 1: Type of Call\n",
      "      - Column 2: Location\n",
      "      - Column 3: Count\n",
      "\n"
     ]
    }
   ],
   "source": [
    "file_path = \"Datasets/mostCallTypesLocations.csv\"\n",
    "df_MostCallTypesAtLocations = pd.read_csv(file_path)\n",
    "\n",
    "print(\"✅ Successfully imported MostCallTypesAtLocations df\\n\")\n",
    "print(f\"{df_MostCallTypesAtLocations.head()}\\n\")\n",
    "print(\"\"\"Information:\n",
    "      - Column 1: Type of Call\n",
    "      - Column 2: Location\n",
    "      - Column 3: Count\\n\"\"\")\n"
   ]
  },
  {
   "cell_type": "code",
   "execution_count": 48,
   "metadata": {},
   "outputs": [
    {
     "name": "stdout",
     "output_type": "stream",
     "text": [
      "✅ Successfully imported MostShootingsAtLocations df\n",
      "\n",
      "        Lesure St & W Outer Dr  1069\n",
      "0  Moross Rd & Northdeuft Blvd   699\n",
      "1    W Grand Blvd & Lincoln St   675\n",
      "2       Mack Ave & Beaubien St   334\n",
      "3   Chapel St & W McNichols Rd   105\n",
      "4     Warwick St & Plymouth Rd    98\n",
      "\n",
      "Information ( All Are Type: Shooting ):\n",
      "      - Column 1: Location\n",
      "      - Column 2: Count\n",
      "\n"
     ]
    }
   ],
   "source": [
    "file_path = \"Datasets/mostShootingLocations.csv\"\n",
    "df_MostShootingsAtLocations = pd.read_csv(file_path)\n",
    "\n",
    "print(\"✅ Successfully imported MostShootingsAtLocations df\\n\")\n",
    "print(f\"{df_MostShootingsAtLocations.head()}\\n\")\n",
    "print(\"\"\"Information ( All Are Type: Shooting ):\n",
    "      - Column 1: Location\n",
    "      - Column 2: Count\\n\"\"\")"
   ]
  },
  {
   "cell_type": "markdown",
   "metadata": {},
   "source": [
    "### Import Data From Census.gov\n",
    "\n",
    "The data consists of a five year estimate ( a weighted average calculated by the Census Buereau ) for population and attributes of residents residing in Wayne County, Mi from 2018-2023. \n",
    "\n",
    "The datasets include:\n",
    "1. 2022FiveYearEstimate.csv\n",
    "    - Consists of a weighted average from years 2018-2022 of population size, sex, and race\n",
    "2. 2023FiveYearEstimate.csv\n",
    "    - Consists of a weighted average from years 2019-2023 of population size, sex, and race"
   ]
  },
  {
   "cell_type": "code",
   "execution_count": 49,
   "metadata": {},
   "outputs": [
    {
     "name": "stdout",
     "output_type": "stream",
     "text": [
      "✅ Successfully imported 2022FiveYearEstimate df\n",
      "\n",
      "Information:\n",
      "      - Sex\n",
      "      - Age\n",
      "      - Race\n",
      "      - Citizen, Voting Age Population\n"
     ]
    }
   ],
   "source": [
    "file_path = \"Datasets/2022FiveYearEstimate.csv\"\n",
    "df_2022FiveYearEstimate = pd.read_csv(file_path)\n",
    "\n",
    "print(\"✅ Successfully imported 2022FiveYearEstimate df\\n\")\n",
    "print(\"\"\"Information:\n",
    "      - Sex\n",
    "      - Age\n",
    "      - Race\n",
    "      - Citizen, Voting Age Population\"\"\")"
   ]
  },
  {
   "cell_type": "code",
   "execution_count": 50,
   "metadata": {},
   "outputs": [
    {
     "name": "stdout",
     "output_type": "stream",
     "text": [
      "✅ Successfully imported 2023FiveYearEstimate df\n",
      "\n",
      "Information:\n",
      "      - Sex\n",
      "      - Age\n",
      "      - Race\n",
      "      - Citizen, Voting Age Population\n"
     ]
    }
   ],
   "source": [
    "file_path = \"Datasets/2023FiveYearEstimate.csv\"\n",
    "df_2023FiveYearEstimate = pd.read_csv(file_path)\n",
    "\n",
    "print(\"✅ Successfully imported 2023FiveYearEstimate df\\n\")\n",
    "print(\"\"\"Information:\n",
    "      - Sex\n",
    "      - Age\n",
    "      - Race\n",
    "      - Citizen, Voting Age Population\"\"\")"
   ]
  },
  {
   "cell_type": "markdown",
   "metadata": {},
   "source": [
    "# References\n",
    "\n",
    "### **Datasets**\n",
    "- **Detroit Open Portal:** Provided substantial data regarding 911 calls and locations\n",
    "    - 2018: https://data.detroitmi.gov/datasets/e9243485b5254b4d9e177bc1a9e0eed4_0/explore?location=42.204235%2C-83.335395%2C8.42&showTable=true\n",
    "    - 2019: https://data.detroitmi.gov/datasets/b480271e68094289905a9b07e470b2d1_0/explore?location=42.204235%2C-83.335395%2C8.42&showTable=true\n",
    "    - 2020: https://data.detroitmi.gov/datasets/7f32a6176ca14eb3b1c43241fdc953ca_0/explore?location=42.204235%2C-83.335395%2C8.42&showTable=true\n",
    "    - 2021: https://data.detroitmi.gov/datasets/bb279dd59fa9414a97185e1a2d2db200_0/explore?showTable=true\n",
    "    - 2022: https://data.detroitmi.gov/datasets/23bef6250e904113be5954807c91e739_0/explore?showTable=true\n",
    "    - 2023: https://data.detroitmi.gov/datasets/13fb64ee36524809bd9a4a03e30151a2_0/explore?showTable=true\n",
    "    - 2024: https://data.detroitmi.gov/datasets/cb16e22c60644a68b1eca5a6c3d67088_0/explore?showTable=true\n",
    "    - 2025: http://data.detroitmi.gov/datasets/a1c24156ffe146b4964ed128c5e1f12f_0/explore?showTable=true\n",
    "- **United States Census Bureau:** Provided five year population estimates\n",
    "    - 2018-2022: https://data.census.gov/table/ACSDP5Y2022.DP05?q=population+of+wayne+county+michigan+DP05&t=Populations+and+People\n",
    "    - 2019-2023: https://data.census.gov/table/ACSDP5Y2023.DP05?q=population+of+wayne+county+michigan+DP05&t=Populations+and+People\n",
    "\n",
    "### **Literature**\n",
    "- **Wiley Online Library:** Provided information regarding hospital location urban planning\n",
    "    - https://onlinelibrary.wiley.com/doi/10.1155/2021/6682958#:~:text=This%20problem%20depends%20on%20many,problems%20%5B4%E2%80%938%5D.\n",
    "    \n",
    "    "
   ]
  }
 ],
 "metadata": {
  "kernelspec": {
   "display_name": "Python Visuals (venv)",
   "language": "python",
   "name": "python_visuals"
  },
  "language_info": {
   "codemirror_mode": {
    "name": "ipython",
    "version": 3
   },
   "file_extension": ".py",
   "mimetype": "text/x-python",
   "name": "python",
   "nbconvert_exporter": "python",
   "pygments_lexer": "ipython3",
   "version": "3.13.5"
  }
 },
 "nbformat": 4,
 "nbformat_minor": 2
}
